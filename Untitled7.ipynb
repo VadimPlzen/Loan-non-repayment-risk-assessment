{
  "metadata": {
    "kernelspec": {
      "name": "python",
      "display_name": "Python (Pyodide)",
      "language": "python"
    },
    "language_info": {
      "codemirror_mode": {
        "name": "python",
        "version": 3
      },
      "file_extension": ".py",
      "mimetype": "text/x-python",
      "name": "python",
      "nbconvert_exporter": "python",
      "pygments_lexer": "ipython3",
      "version": "3.8"
    }
  },
  "nbformat_minor": 4,
  "nbformat": 4,
  "cells": [
    {
      "cell_type": "markdown",
      "source": "Шаг 1. \n\n    Загрузите датасет.\n    Сделайте копию датасета.\n    Изучите типы данных и определите, соответствуют ли они содержимому.\n    Напишите вывод.\n",
      "metadata": {}
    },
    {
      "cell_type": "code",
      "source": "# Импортируйте библиотеки для работы\n# с таблицами и графиками\nimport pandas as pd\nimport matplotlib.pyplot as plt\nimport seaborn as sns\n",
      "metadata": {
        "trusted": true
      },
      "outputs": [],
      "execution_count": null
    },
    {
      "cell_type": "code",
      "source": "# Загрузите датасет в переменную df_raw или другую по вашему выбору.\n# Он доступен по адресу <https://code.s3.yandex.net/datasets/credit_scoring_eng.csv>\n# а при работе на платформе по адресу /datasets/credit_scoring_eng.csv\ndf_raw = pd.read_csv(\"https://code.s3.yandex.net/datasets/credit_scoring_eng.csv\")",
      "metadata": {
        "trusted": true
      },
      "outputs": [],
      "execution_count": null
    },
    {
      "cell_type": "code",
      "source": "# При помощи метода .copy() скопируйте датасет\n# для работы с ним в переменную df или другую\ndf = df_raw.copy()",
      "metadata": {
        "trusted": true
      },
      "outputs": [],
      "execution_count": null
    },
    {
      "cell_type": "code",
      "source": "# Изучите общую информацию о датасете\n\ndf.info()\ndf.sample(5)\ndf.describe()",
      "metadata": {
        "trusted": true
      },
      "outputs": [],
      "execution_count": null
    },
    {
      "cell_type": "markdown",
      "source": "After reviewing the data, you can draw some quick conclusions. First, there are gaps in the days_employed and total_income columns. It is likely that we are talking about unemployed people or those who have just started working. With a more detailed analysis, we will determine what we will do with them. Secondly, the days_employed column does not have the correct format (negative values). But since we won’t need it for work, we won’t touch it (to save our time). Strange values ​​were also found in the children column (negative and abnormally high), and there may have been an error when entering data in the dob_years column (age cannot be 0). Also, with a more detailed analysis, we will decide whether to delete or replace this data (or maybe just skip it). You will also need to examine abnormally high values ​​in the total_income column. There are also abnormally high values ​​in the days_employed column (401755 days of work experience is 1100 years). But since we won’t need it for work, we won’t touch it (to save our time).",
      "metadata": {}
    },
    {
      "cell_type": "code",
      "source": "",
      "metadata": {
        "trusted": true
      },
      "outputs": [],
      "execution_count": null
    }
  ]
}